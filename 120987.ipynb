{
  "nbformat": 4,
  "nbformat_minor": 0,
  "metadata": {
    "colab": {
      "provenance": [],
      "authorship_tag": "ABX9TyM1FPdAJFJnJRBohrZY4sa8",
      "include_colab_link": true
    },
    "kernelspec": {
      "name": "python3",
      "display_name": "Python 3"
    },
    "language_info": {
      "name": "python"
    }
  },
  "cells": [
    {
      "cell_type": "markdown",
      "metadata": {
        "id": "view-in-github",
        "colab_type": "text"
      },
      "source": [
        "<a href=\"https://colab.research.google.com/github/S-Ali-S/NLP/blob/main/120987.ipynb\" target=\"_parent\"><img src=\"https://colab.research.google.com/assets/colab-badge.svg\" alt=\"Open In Colab\"/></a>"
      ]
    },
    {
      "cell_type": "code",
      "execution_count": 27,
      "metadata": {
        "colab": {
          "base_uri": "https://localhost:8080/"
        },
        "id": "XXGr4g0e7u40",
        "outputId": "e7213e52-e612-45f5-b3c9-e30098be2d7d"
      },
      "outputs": [
        {
          "output_type": "stream",
          "name": "stdout",
          "text": [
            "defaultdict(<class 'float'>, {'natural': 0.16666666666666666, 'coding': 0.16666666666666666})\n"
          ]
        }
      ],
      "source": [
        "import nltk\n",
        "from nltk.util import ngrams\n",
        "from collections import Counter,defaultdict\n",
        "from nltk import word_tokenize\n",
        "\n",
        "# nltk.download('punkt')\n",
        "\n",
        "\n",
        "corpus = [\n",
        "    \"I love natural language processing\",\n",
        "    \"Natural language processing is fun\",\n",
        "    \"I love coding\",\n",
        "    \"I enjoy learning about natural language processing\"\n",
        "]\n",
        "\n",
        "# tokenize the corpus\n",
        "\n",
        "tokens= [word_tokenize(sentence) for sentence in corpus]\n",
        "\n",
        "ngram_count=Counter()\n",
        "unigram_count=Counter()\n",
        "\n",
        "def getGrams(n):\n",
        "  for sentence in tokens:\n",
        "    for word in sentence:\n",
        "      unigram_count[word]+=1\n",
        "    for ngram in ngrams(sentence,n):\n",
        "      ngram_count[ngram]+=1\n",
        "\n",
        "\n",
        "# calculate the probability of every ngram\n",
        "def calculateTheProbabilities():\n",
        "  vocabSize=len(unigram_count)\n",
        "  prob= defaultdict(float)\n",
        "  for ngram, count in ngram_count.items():\n",
        "    context= ngram[:-1]\n",
        "    context_count = ngram_count.get(context,0)\n",
        "    prob[ngram] = (count+1) / (context_count+vocabSize)\n",
        "  return prob\n",
        "\n",
        "\n",
        "# predict what comes next by seeing what came before and after\n",
        "def predict(sentence,prob,n):\n",
        "  tokens=word_tokenize(sentence.lower())\n",
        "  if len(tokens)<n-1:\n",
        "    return print('cannot predict')\n",
        "\n",
        "  context=tuple(tokens[-(n-1):])\n",
        "  potential_word=defaultdict(float)\n",
        "\n",
        "  for (ngram, prb) in prob.items():\n",
        "      if ngram[:-1] == context:\n",
        "        potential_word[ngram[-1]]=prb\n",
        "  return potential_word\n",
        "\n",
        "getGrams(2)\n",
        "p=calculateTheProbabilities()\n",
        "print(predict('I love',p,2))\n",
        "\n",
        "\n"
      ]
    }
  ]
}