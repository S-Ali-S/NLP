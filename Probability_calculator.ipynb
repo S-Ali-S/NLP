{
  "nbformat": 4,
  "nbformat_minor": 0,
  "metadata": {
    "colab": {
      "provenance": [],
      "authorship_tag": "ABX9TyPQ7Qra0RKXQUljEvySHfe1",
      "include_colab_link": true
    },
    "kernelspec": {
      "name": "python3",
      "display_name": "Python 3"
    },
    "language_info": {
      "name": "python"
    }
  },
  "cells": [
    {
      "cell_type": "markdown",
      "metadata": {
        "id": "view-in-github",
        "colab_type": "text"
      },
      "source": [
        "<a href=\"https://colab.research.google.com/github/S-Ali-S/NLP/blob/main/Probability_calculator.ipynb\" target=\"_parent\"><img src=\"https://colab.research.google.com/assets/colab-badge.svg\" alt=\"Open In Colab\"/></a>"
      ]
    },
    {
      "cell_type": "code",
      "execution_count": 9,
      "metadata": {
        "colab": {
          "base_uri": "https://localhost:8080/"
        },
        "id": "FwF2CHVTWVbC",
        "outputId": "cdfabf3a-e950-4e3b-decb-f165b4f447cf"
      },
      "outputs": [
        {
          "output_type": "stream",
          "name": "stdout",
          "text": [
            "Probability of the sentence: 0.21428571428571427\n"
          ]
        },
        {
          "output_type": "stream",
          "name": "stderr",
          "text": [
            "[nltk_data] Downloading package punkt to /root/nltk_data...\n",
            "[nltk_data]   Package punkt is already up-to-date!\n"
          ]
        }
      ],
      "source": [
        "import nltk\n",
        "from nltk import bigrams\n",
        "from collections import Counter\n",
        "from nltk import word_tokenize\n",
        "\n",
        "nltk.download('punkt')\n",
        "\n",
        "corpus = [\n",
        "    \"I love natural language processing\",\n",
        "    \"Natural language processing is fun\",\n",
        "    \"I love coding\",\n",
        "    \"I enjoy learning about natural language processing\"\n",
        "]\n",
        "\n",
        "tokenizedCorpus = [word_tokenize(sentence.lower()) for sentence in corpus]\n",
        "\n",
        "all_words = [word for sentence in tokenizedCorpus for word in sentence]\n",
        "\n",
        "unigramCounts = Counter(all_words)\n",
        "\n",
        "bigramCounts = Counter()\n",
        "\n",
        "for sentence in tokenizedCorpus:\n",
        "    for bigram_pair in bigrams(sentence):\n",
        "      bigramCounts[bigram_pair]+=1\n",
        "\n",
        "def calculate_sentence_prob(sentence):\n",
        "  tokens = word_tokenize(sentence.lower())\n",
        "  prob=0\n",
        "  for i in range(len(tokens)-1):\n",
        "    bigram = (tokens[i], tokens[i-1])\n",
        "    unigramCount = unigramCounts[tokens[i]]\n",
        "    bigramCount = bigramCounts[bigram]\n",
        "    prob = (bigramCount+1)/(unigramCount+len(unigramCounts))\n",
        "  return prob\n",
        "\n",
        "\n",
        "sentence = \"I love\"\n",
        "probability = calculate_sentence_prob(sentence)\n",
        "\n",
        "print(\"Probability of the sentence:\", probability)\n"
      ]
    }
  ]
}