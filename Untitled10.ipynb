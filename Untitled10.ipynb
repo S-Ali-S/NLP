{
  "nbformat": 4,
  "nbformat_minor": 0,
  "metadata": {
    "colab": {
      "provenance": [],
      "authorship_tag": "ABX9TyP4YLiV+9kB88beS+ABZL5Q",
      "include_colab_link": true
    },
    "kernelspec": {
      "name": "python3",
      "display_name": "Python 3"
    },
    "language_info": {
      "name": "python"
    }
  },
  "cells": [
    {
      "cell_type": "markdown",
      "metadata": {
        "id": "view-in-github",
        "colab_type": "text"
      },
      "source": [
        "<a href=\"https://colab.research.google.com/github/S-Ali-S/NLP/blob/main/Untitled10.ipynb\" target=\"_parent\"><img src=\"https://colab.research.google.com/assets/colab-badge.svg\" alt=\"Open In Colab\"/></a>"
      ]
    },
    {
      "cell_type": "code",
      "execution_count": 56,
      "metadata": {
        "colab": {
          "base_uri": "https://localhost:8080/"
        },
        "id": "nEjefJytK3Tu",
        "outputId": "9c2198be-6687-455a-a6a9-a0141456ad0d"
      },
      "outputs": [
        {
          "output_type": "execute_result",
          "data": {
            "text/plain": [
              "0.09523809523809523"
            ]
          },
          "metadata": {},
          "execution_count": 56
        }
      ],
      "source": [
        "from collections import defaultdict\n",
        "\n",
        "corpus = [\n",
        "    \"I love programming\",\n",
        "    \"programming is fun\",\n",
        "    \"I love learning new things\",\n",
        "    \"learning new things is exciting\",\n",
        "    \"fun programming challenges are great\"\n",
        "]\n",
        "\n",
        "def calculateNgram(ngram):\n",
        "    ngram_dic = defaultdict(int)\n",
        "    unigram_dic = defaultdict(int)\n",
        "\n",
        "    for sentence in corpus:\n",
        "        words = sentence.split()\n",
        "        for index in range(len(words)):\n",
        "            unigram_dic[words[index]] += 1\n",
        "            if index < len(words) - 1:\n",
        "                value = tuple(words[index:index + ngram])\n",
        "                ngram_dic[value] += 1\n",
        "    return ngram_dic, unigram_dic\n",
        "\n",
        "def getMaxN():\n",
        "    length = [len(sentence.split()) - 1 for sentence in corpus]\n",
        "    return max(length)\n",
        "\n",
        "def predict(ngram_dic, unigram_dic, context, word):\n",
        "    context_count = ngram_dic[context] if context in ngram_dic else 0\n",
        "    word_count = ngram_dic[context + (word,)] if (context + (word,)) in ngram_dic else 0\n",
        "    vocab_size = len(unigram_dic)\n",
        "\n",
        "    if context_count == 0:\n",
        "        return 0.0\n",
        "\n",
        "    prob = (word_count + 1) / (context_count + vocab_size)\n",
        "    return prob\n",
        "\n",
        "def calculateTheProbabilities(word):\n",
        "    for i in range(1, getMaxN() + 1):\n",
        "        ngram_dic, unigram_dic = calculateNgram(i)\n",
        "\n",
        "        if i == 1:\n",
        "            return unigram_dic[word] / sum(unigram_dic.values())\n",
        "        else:\n",
        "            for sentence in corpus:\n",
        "                words = sentence.split()\n",
        "                for j in range(len(words) - i + 1):\n",
        "                    context = tuple(words[j:j + i - 1])\n",
        "                    if context in ngram_dic:\n",
        "                        prob = predict(ngram_dic, unigram_dic, context, word)\n",
        "                        print(f\"P({word} | {' '.join(context)}) = {prob:.4f}\")\n",
        "\n",
        "calculateTheProbabilities('fun')\n"
      ]
    }
  ]
}